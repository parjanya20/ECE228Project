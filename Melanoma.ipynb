{
 "cells": [
  {
   "cell_type": "code",
   "execution_count": 1,
   "metadata": {},
   "outputs": [],
   "source": [
    "import numpy as np\n",
    "import torch\n",
    "import torch.nn as nn\n",
    "import torch.optim as optim\n",
    "from torch.utils.data import DataLoader, TensorDataset\n",
    "from torch.utils.data.dataset import random_split\n",
    "import pandas as pd\n",
    "#For reproducibility\n",
    "np.random.seed(0)\n",
    "torch.manual_seed(0)\n",
    "torch.backends.cudnn.deterministic = True\n",
    "torch.backends.cudnn.benchmark = False\n",
    "from data import create_synth_data as csd\n",
    "from scripts import bbse, methods\n",
    "import matplotlib.pyplot as plt\n",
    "import matplotlib.image as mpimg\n",
    "from sklearn.model_selection import train_test_split\n",
    "\n"
   ]
  },
  {
   "cell_type": "code",
   "execution_count": 2,
   "metadata": {},
   "outputs": [
    {
     "name": "stdout",
     "output_type": "stream",
     "text": [
      "torso              16845\n",
      "lower extremity     8417\n",
      "upper extremity     4983\n",
      "head/neck           1855\n",
      "palms/soles          375\n",
      "oral/genital         124\n",
      "Name: anatom_site_general_challenge, dtype: int64\n",
      "Mapping of 'anatom_site_general_challenge' to integers: {0: 'head/neck', 1: 'lower extremity', 2: 'oral/genital', 3: 'palms/soles', 4: 'torso', 5: 'upper extremity'}\n"
     ]
    }
   ],
   "source": [
    "data_dir = '/home/parjanya/UCSD_courses/ECE228/melanoma'\n",
    "df = pd.read_csv(data_dir + '/train.csv')\n",
    "df['anatom_site_general_challenge'] = df['anatom_site_general_challenge'].astype('category')\n",
    "print(df['anatom_site_general_challenge'].value_counts())\n",
    "g = df['anatom_site_general_challenge'].cat.codes\n",
    "\n",
    "\n",
    "y = df['target']\n",
    "\n",
    "\n",
    "mapping = dict(enumerate(df['anatom_site_general_challenge'].cat.categories))\n",
    "print(\"Mapping of 'anatom_site_general_challenge' to integers:\", mapping)"
   ]
  },
  {
   "cell_type": "code",
   "execution_count": 3,
   "metadata": {},
   "outputs": [],
   "source": [
    "#Load X_resnet\n",
    "X_resnet = np.load(data_dir + '/resnet_features.npy')"
   ]
  },
  {
   "cell_type": "code",
   "execution_count": 4,
   "metadata": {},
   "outputs": [
    {
     "name": "stdout",
     "output_type": "stream",
     "text": [
      "tensor(583)\n"
     ]
    }
   ],
   "source": [
    "\n",
    "X_resnet = torch.tensor(X_resnet, dtype=torch.float32)\n",
    "y = torch.tensor(y.values, dtype=torch.float32)\n",
    "g = torch.tensor(g.values, dtype=torch.float32)\n",
    "def stratified_split(X, y, g, test_size=0.5, train_pos_ratio=0.1, test_pos_ratio=0.5):\n",
    "    pos_indices = (y == 1)\n",
    "    neg_indices = (y == 0)\n",
    "    size = min(pos_indices.sum(), neg_indices.sum())-1\n",
    "    print(size)\n",
    "    X_pos, y_pos, g_pos = X[pos_indices][:size], y[pos_indices][:size], g[pos_indices][:size]\n",
    "    X_neg, y_neg, g_neg = X[neg_indices][:size], y[neg_indices][:size], g[neg_indices][:size]\n",
    "    pos_train_size = int(train_pos_ratio * len(X_pos) / (train_pos_ratio + test_pos_ratio))\n",
    "    neg_train_size = int(len(X_neg) * (1 - test_size))\n",
    "    X_train_pos, X_test_pos, y_train_pos, y_test_pos, g_train_pos, g_test_pos = train_test_split(X_pos, y_pos, g_pos, train_size=pos_train_size, random_state=42)\n",
    "    X_train_neg, X_test_neg, y_train_neg, y_test_neg, g_train_neg, g_test_neg = train_test_split(X_neg, y_neg, g_neg, train_size=neg_train_size, random_state=42)\n",
    "    X_train = torch.cat([X_train_pos, X_train_neg], dim=0)\n",
    "    y_train = torch.cat([y_train_pos, y_train_neg], dim=0)\n",
    "    g_train = torch.cat([g_train_pos, g_train_neg], dim=0)\n",
    "    X_test = torch.cat([X_test_pos, X_test_neg], dim=0)\n",
    "    y_test = torch.cat([y_test_pos, y_test_neg], dim=0)\n",
    "    g_test = torch.cat([g_test_pos, g_test_neg], dim=0)\n",
    "\n",
    "    return X_train, X_test, y_train, y_test, g_train, g_test\n",
    "\n",
    "X_train, X_test, y_train, y_test, g_train, g_test = stratified_split(X_resnet, y, g)\n",
    "\n",
    "X_train = X_train.numpy()\n",
    "X_test = X_test.numpy()\n",
    "y_train = y_train.numpy()\n",
    "y_test = y_test.numpy()\n",
    "g_train = g_train.numpy()\n",
    "g_test = g_test.numpy()\n"
   ]
  },
  {
   "cell_type": "code",
   "execution_count": 6,
   "metadata": {},
   "outputs": [
    {
     "name": "stdout",
     "output_type": "stream",
     "text": [
      "Early stopping!\n",
      "Early stopping!\n",
      "Early stopping!\n",
      "Test accuracy Ours:  0.4913294797687861\n",
      "Test accuracy ERM:  0.4624277456647399\n",
      "Test accuracy IRM:  0.4046242774566474\n",
      "Test accuracy DRO:  0.45664739884393063\n",
      "Recall Ours:  0.18867924528301888\n",
      "Recall ERM:  0.16037735849056603\n",
      "Recall IRM:  0.02830188679245283\n",
      "Recall DRO:  0.32075471698113206\n",
      "Test accuracy ERM BBSE:  0.4624277456647399\n",
      "Recall ERM BBSE:  0.1320754716981132\n",
      "Test accuracy Ours BBSE:  0.6589595375722543\n",
      "Recall Ours BBSE:  0.8113207547169812\n"
     ]
    }
   ],
   "source": [
    "group = 1\n",
    "group_indices = (g_train == group)\n",
    "group_indices_test = (g_test == group)\n",
    "X_train_group = X_train[~group_indices]\n",
    "y_train_group = y_train[~group_indices]\n",
    "g_train_group = g_train[~group_indices]\n",
    "X_test_group = X_test[group_indices_test]\n",
    "y_test_group = y_test[group_indices_test]\n",
    "g_test_group = g_test[group_indices_test]\n",
    "y_pred_test_ours_prob_group, y_pred_val_ours_prob_group, y_val_ours_group, y1_group = methods.ours(X_train_group, y_train_group, g_train_group, X_test_group,1.0)\n",
    "y_pred_test_ours_group = np.argmax(y_pred_test_ours_prob_group, axis=1)\n",
    "y_pred_val_ours_group = np.argmax(y_pred_val_ours_prob_group, axis=1)\n",
    "y_pred_test_erm_prob_group , y_pred_val_erm_prob_group, y_val_erm_group= methods.erm(X_train_group, y_train_group, X_test_group)\n",
    "y_pred_test_erm_group = np.argmax(y_pred_test_erm_prob_group, axis=1)\n",
    "y_pred_val_erm_group = np.argmax(y_pred_val_erm_prob_group, axis=1)\n",
    "\n",
    "y_pred_test_irm_prob_group = methods.irm(X_train_group, y_train_group, g_train_group, X_test_group,0.1)\n",
    "y_pred_test_irm_group = np.argmax(y_pred_test_irm_prob_group, axis=1)\n",
    "y_pred_test_dro_prob_group = methods.group_dro(X_train_group, y_train_group, g_train_group, X_test_group)\n",
    "y_pred_test_dro_group = np.argmax(y_pred_test_dro_prob_group, axis=1)\n",
    "\n",
    "\n",
    "#Print test accuracy for ERM, IRM and DRO and ours\n",
    "print(\"Test accuracy Ours: \", np.mean(y_pred_test_ours_group == y_test_group))\n",
    "print(\"Test accuracy ERM: \", np.mean(y_pred_test_erm_group == y_test_group))\n",
    "print(\"Test accuracy IRM: \", np.mean(y_pred_test_irm_group == y_test_group))\n",
    "print(\"Test accuracy DRO: \", np.mean(y_pred_test_dro_group == y_test_group))\n",
    "\n",
    "\n",
    "\n",
    "#Print recall based on this new y_pred\n",
    "print(\"Recall Ours: \", np.mean(y_pred_test_ours_group[y_test_group==1] == y_test_group[y_test_group==1]))\n",
    "print(\"Recall ERM: \", np.mean(y_pred_test_erm_group[y_test_group==1] == y_test_group[y_test_group==1]))\n",
    "print(\"Recall IRM: \", np.mean(y_pred_test_irm_group[y_test_group==1] == y_test_group[y_test_group==1]))\n",
    "print(\"Recall DRO: \", np.mean(y_pred_test_dro_group[y_test_group==1] == y_test_group[y_test_group==1]))\n",
    "\n",
    "qy_hat = np.zeros(2)\n",
    "qy_hat[0] = np.mean(y_pred_test_erm_group== 0)\n",
    "qy_hat[1] = np.mean(y_pred_test_erm_group == 1)\n",
    "\n",
    "qy, py = bbse.estimate_test_py(y_val_erm_group,y_pred_val_erm_group,qy_hat)\n",
    "y_pred_test_erm_prob_bbse_group = bbse.recalibrate(y_pred_test_erm_prob_group, qy, py)\n",
    "y_pred_test_erm_bbse_group = np.argmax(y_pred_test_erm_prob_bbse_group, axis=1)\n",
    "print(\"Test accuracy ERM BBSE: \", np.mean(y_pred_test_erm_bbse_group == y_test_group))\n",
    "print(\"Recall ERM BBSE: \", np.mean(y_pred_test_erm_bbse_group[y_test_group==1] == y_test_group[y_test_group==1]))\n",
    "\n",
    "#Do BBSE for ours instead of ERM\n",
    "qy_hat = np.zeros(2)\n",
    "qy_hat[0] = np.mean(y_pred_test_ours_group== 0)\n",
    "qy_hat[1] = np.mean(y_pred_test_ours_group == 1)\n",
    "\n",
    "qy, py = bbse.estimate_test_py(y_val_ours_group,y_pred_val_ours_group,qy_hat)\n",
    "y_pred_test_ours_prob_bbse_group = bbse.recalibrate(y_pred_test_erm_prob_group, qy, py)\n",
    "y_pred_test_ours_bbse_group = np.argmax(y_pred_test_ours_prob_bbse_group, axis=1)\n",
    "print(\"Test accuracy Ours BBSE: \", np.mean(y_pred_test_ours_bbse_group == y_test_group))\n",
    "print(\"Recall Ours BBSE: \", np.mean(y_pred_test_ours_bbse_group[y_test_group==1] == y_test_group[y_test_group==1]))\n"
   ]
  },
  {
   "cell_type": "code",
   "execution_count": null,
   "metadata": {},
   "outputs": [],
   "source": []
  }
 ],
 "metadata": {
  "kernelspec": {
   "display_name": "Python 3",
   "language": "python",
   "name": "python3"
  },
  "language_info": {
   "codemirror_mode": {
    "name": "ipython",
    "version": 3
   },
   "file_extension": ".py",
   "mimetype": "text/x-python",
   "name": "python",
   "nbconvert_exporter": "python",
   "pygments_lexer": "ipython3",
   "version": "3.8.10"
  }
 },
 "nbformat": 4,
 "nbformat_minor": 2
}
